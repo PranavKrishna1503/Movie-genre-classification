{
  "nbformat": 4,
  "nbformat_minor": 0,
  "metadata": {
    "colab": {
      "provenance": []
    },
    "kernelspec": {
      "name": "python3",
      "display_name": "Python 3"
    },
    "language_info": {
      "name": "python"
    }
  },
  "cells": [
    {
      "cell_type": "code",
      "source": [
        "#formatting data\n",
        "\n",
        "import csv\n",
        "import re\n",
        "\n",
        "# Input and output file paths\n",
        "input_file = 'train_data.txt'\n",
        "output_file = 'output.csv'\n",
        "\n",
        "# Function to parse each line of text and extract details\n",
        "def parse_line(line):\n",
        "    pattern = r'(\\d+) ::: (.+?) \\((\\d{4})\\) ::: (.+?) ::: (.+)'\n",
        "    match = re.match(pattern, line)\n",
        "    if match:\n",
        "        return match.groups()\n",
        "    return None\n",
        "\n",
        "# Read the text file and parse each line\n",
        "data = []\n",
        "with open(input_file, 'r') as file:\n",
        "    for line in file:\n",
        "        parsed = parse_line(line.strip())\n",
        "        if parsed:\n",
        "            data.append(parsed)\n",
        "\n",
        "# Write parsed data to CSV\n",
        "with open(output_file, 'w', newline='') as csvfile:\n",
        "    csvwriter = csv.writer(csvfile)\n",
        "    # Write header\n",
        "    csvwriter.writerow(['ID', 'Title', 'Year', 'Genre', 'Description'])\n",
        "    # Write data rows\n",
        "    csvwriter.writerows(data)\n",
        "\n",
        "print(f\"Data successfully written to {output_file}\")"
      ],
      "metadata": {
        "id": "MSBvoE95vZge"
      },
      "execution_count": null,
      "outputs": []
    },
    {
      "cell_type": "code",
      "source": [
        "import pandas as pd\n",
        "from sklearn.model_selection import train_test_split\n",
        "from sklearn.feature_extraction.text import TfidfVectorizer\n",
        "from sklearn.linear_model import LogisticRegression\n",
        "from sklearn.metrics import classification_report, accuracy_score\n",
        "from sklearn.preprocessing import LabelEncoder\n",
        "\n",
        "#import data\n",
        "data = pd.read_csv(\"output.csv\")\n",
        "\n",
        "# Preprocess the data\n",
        "data = data.dropna(subset=['Genre', 'Description'])\n",
        "label_encoder = LabelEncoder()\n",
        "data['Genre_encoded'] = label_encoder.fit_transform(data['Genre'])\n",
        "\n",
        "# Prepare the text descriptions and labels\n",
        "X = data['Description']\n",
        "y = data['Genre_encoded']\n",
        "\n",
        "# Split the data into training and testing sets\n",
        "X_train, X_test, y_train, y_test = train_test_split(X, y, test_size=0.2, random_state=42)\n",
        "\n",
        "# TF-IDF Vectorization\n",
        "tfidf_vectorizer = TfidfVectorizer(stop_words='english', max_features=1000)\n",
        "X_train_tfidf = tfidf_vectorizer.fit_transform(X_train)\n",
        "X_test_tfidf = tfidf_vectorizer.transform(X_test)\n",
        "\n",
        "# Model Training\n",
        "logistic_classifier = LogisticRegression(random_state=42, max_iter=1000)\n",
        "logistic_classifier.fit(X_train_tfidf, y_train)\n",
        "\n",
        "# Function to predict genre and its probability for a new description\n",
        "def predict_genre(description):\n",
        "    # Transform the new description into TF-IDF feature vectors using the trained TF-IDF vectorizer\n",
        "    description_tfidf = tfidf_vectorizer.transform([description])\n",
        "\n",
        "    # Predict the genre label for the new description\n",
        "    prediction = logistic_classifier.predict(description_tfidf)\n",
        "\n",
        "    # Predict the probabilities of each genre for the new description\n",
        "    probabilities = logistic_classifier.predict_proba(description_tfidf)\n",
        "\n",
        "    # Convert the predicted label back to its original genre category using the label encoder\n",
        "    predicted_genre = label_encoder.inverse_transform(prediction)[0]\n",
        "\n",
        "    # Get the probability of the predicted genre for the new description\n",
        "    # The predicted genre's probability is obtained from the predicted label\n",
        "    predicted_probability = probabilities[0][prediction][0]\n",
        "\n",
        "    # Return the predicted genre and its probability\n",
        "    return predicted_genre, predicted_probability"
      ],
      "metadata": {
        "id": "i406SWAufk7U"
      },
      "execution_count": null,
      "outputs": []
    },
    {
      "cell_type": "code",
      "source": [
        "new_description = input(\"Enter the description: \")\n",
        "predicted_genre, predicted_probability = predict_genre(new_description)\n",
        "print(f\"\\nPredicted Genre: {predicted_genre}\")\n",
        "print(f\"Probability: {predicted_probability:.2f}\")"
      ],
      "metadata": {
        "colab": {
          "base_uri": "https://localhost:8080/"
        },
        "id": "RPKdhEiAflFR",
        "outputId": "4495ad9b-e77f-44c1-bf5e-698c75b3b0b6"
      },
      "execution_count": null,
      "outputs": [
        {
          "output_type": "stream",
          "name": "stdout",
          "text": [
            "Enter the description: In a mystical land forgotten by time, young orphan Elara discovers a hidden portal in the forest that leads to the Enchanted Realm, a world teeming with magic and mythical creatures. Upon entering, she learns that she is the prophesied savior destined to protect the realm from the impending darkness brought by the malevolent sorcerer, Zalthor.\n",
            "\n",
            "Predicted Genre: fantasy\n",
            "Probability: 0.22\n"
          ]
        }
      ]
    }
  ]
}